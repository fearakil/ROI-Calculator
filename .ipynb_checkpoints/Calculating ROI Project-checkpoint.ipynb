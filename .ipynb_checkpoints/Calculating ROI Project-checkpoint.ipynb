{
 "cells": [
  {
   "cell_type": "code",
   "execution_count": 34,
   "metadata": {},
   "outputs": [
    {
     "name": "stdout",
     "output_type": "stream",
     "text": [
      "9.36\n"
     ]
    }
   ],
   "source": [
    "class ROI():\n",
    "    \"\"\"\n",
    "        Income needs to reflect monthly profit including rent, laundry, storage, etc.\n",
    "        Investment needs to reflect total of house including down payment, closing costs etc.\n",
    "        Expenses needs to reflect yearly total for insurance, utilities, repairs, etc.\n",
    "    \"\"\"\n",
    "    \n",
    "    def __init__(self,income,investment,expenses):\n",
    "        self.income = self\n",
    "        self.investment = self\n",
    "        self.expenses = self\n",
    "        \n",
    "    def calROI(self,income,investment,expenses):\n",
    "        annualCashFlow = income * 12 - expenses\n",
    "        cal = (annualCashFlow/investment) * 100\n",
    "        return cal\n",
    "     \n",
    "r = ROI([],[],[])\n",
    "print(r.calROI(2000,50000,19320))\n",
    "\n",
    "\n",
    "# I plugged in the numbers reflecting the YouTube video provided with the assignment (:"
   ]
  },
  {
   "cell_type": "code",
   "execution_count": null,
   "metadata": {},
   "outputs": [],
   "source": []
  }
 ],
 "metadata": {
  "kernelspec": {
   "display_name": "Python 3",
   "language": "python",
   "name": "python3"
  },
  "language_info": {
   "codemirror_mode": {
    "name": "ipython",
    "version": 3
   },
   "file_extension": ".py",
   "mimetype": "text/x-python",
   "name": "python",
   "nbconvert_exporter": "python",
   "pygments_lexer": "ipython3",
   "version": "3.8.3"
  }
 },
 "nbformat": 4,
 "nbformat_minor": 4
}
